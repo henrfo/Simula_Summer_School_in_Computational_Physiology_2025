{
 "cells": [
  {
   "cell_type": "code",
   "execution_count": 1,
   "metadata": {},
   "outputs": [
    {
     "name": "stderr",
     "output_type": "stream",
     "text": [
      "/opt/anaconda3/envs/sscp/lib/python3.12/site-packages/requests/__init__.py:86: RequestsDependencyWarning: Unable to find acceptable character detection dependency (chardet or charset_normalizer).\n",
      "  warnings.warn(\n",
      "/opt/anaconda3/envs/sscp/lib/python3.12/site-packages/tqdm/auto.py:21: TqdmWarning: IProgress not found. Please update jupyter and ipywidgets. See https://ipywidgets.readthedocs.io/en/stable/user_install.html\n",
      "  from .autonotebook import tqdm as notebook_tqdm\n"
     ]
    },
    {
     "name": "stdout",
     "output_type": "stream",
     "text": [
      "Device: mps\n"
     ]
    }
   ],
   "source": [
    "import torch\n",
    "import torchvision\n",
    "import torchvision.transforms as transforms\n",
    "from torch.utils.data import DataLoader\n",
    "import torchhd\n",
    "from torchhd.memory import SparseDistributed\n",
    "import numpy as np\n",
    "import matplotlib.pyplot as plt\n",
    "import umap\n",
    "import pickle\n",
    "import os\n",
    "\n",
    "device = torch.device(\"mps\" if torch.backends.mps.is_available() else \"cpu\")\n",
    "torch.manual_seed(42)\n",
    "\n",
    "# Create pkl directory for caching\n",
    "os.makedirs(\"../pkl\", exist_ok=True)\n",
    "\n",
    "print(f\"Device: {device}\")"
   ]
  },
  {
   "cell_type": "markdown",
   "metadata": {},
   "source": [
    "## 1. Load and preprocess MNIST data"
   ]
  },
  {
   "cell_type": "code",
   "execution_count": 2,
   "metadata": {},
   "outputs": [
    {
     "name": "stdout",
     "output_type": "stream",
     "text": [
      "Training: 60000, Test: 10000\n",
      "HD dimension: 2000\n"
     ]
    }
   ],
   "source": [
    "transform = transforms.Compose([transforms.ToTensor()])\n",
    "\n",
    "train_dataset = torchvision.datasets.MNIST(root=\"./data\", train=True, download=True, transform=transform)\n",
    "test_dataset = torchvision.datasets.MNIST(root=\"./data\", train=False, download=True, transform=transform)\n",
    "\n",
    "train_loader = DataLoader(train_dataset, batch_size=64, shuffle=True)\n",
    "test_loader = DataLoader(test_dataset, batch_size=64, shuffle=False)\n",
    "\n",
    "hd_dim = 2000\n",
    "BASIS_VECTORS = torchhd.random(784, hd_dim, device=device)\n",
    "\n",
    "\n",
    "def encode_mnist_hd(image):\n",
    "    flat_img = image.view(-1).to(device)\n",
    "    binary = (flat_img > 0.1).float()\n",
    "    encoded = torch.matmul(binary, BASIS_VECTORS)\n",
    "    return encoded.sign()\n",
    "\n",
    "\n",
    "print(f\"Training: {len(train_dataset)}, Test: {len(test_dataset)}\")\n",
    "print(f\"HD dimension: {hd_dim}\")"
   ]
  },
  {
   "cell_type": "markdown",
   "metadata": {},
   "source": [
    "## 2. Initialize SDM structure"
   ]
  },
  {
   "cell_type": "code",
   "execution_count": 3,
   "metadata": {},
   "outputs": [
    {
     "name": "stdout",
     "output_type": "stream",
     "text": [
      "Loading existing SDM model...\n",
      "Memory size: 100000\n",
      "HD dimension: 2000\n",
      "Sparsity: 0.005\n"
     ]
    }
   ],
   "source": [
    "memory_size = 100000\n",
    "p = 0.005\n",
    "\n",
    "# Try to load existing SDM\n",
    "if os.path.exists(\"../pkl/sdm_model.pkl\"):\n",
    "    print(\"Loading existing SDM model...\")\n",
    "    with open(\"../pkl/sdm_model.pkl\", \"rb\") as f:\n",
    "        sdm = pickle.load(f)\n",
    "else:\n",
    "    print(\"Creating new SDM model...\")\n",
    "    sdm = SparseDistributed(memory_size, hd_dim, 10, p=p, device=device)\n",
    "\n",
    "print(f\"Memory size: {memory_size}\")\n",
    "print(f\"HD dimension: {hd_dim}\")\n",
    "print(f\"Sparsity: {p}\")"
   ]
  },
  {
   "cell_type": "markdown",
   "metadata": {},
   "source": [
    "## 3. Train the SDM model"
   ]
  },
  {
   "cell_type": "code",
   "execution_count": 4,
   "metadata": {},
   "outputs": [
    {
     "name": "stdout",
     "output_type": "stream",
     "text": [
      "Using pre-trained Standard SDM model\n"
     ]
    }
   ],
   "source": [
    "num_batches = 400\n",
    "\n",
    "# Skip training if model already exists\n",
    "if not os.path.exists('../pkl/sdm_model.pkl'):\n",
    "    print(\"Training Standard SDM model (clean images only)...\")\n",
    "    for batch_idx, (data, targets) in enumerate(train_loader):\n",
    "        if batch_idx >= num_batches:\n",
    "            break\n",
    "\n",
    "        data = data.to(device)\n",
    "        targets = targets.to(device)\n",
    "\n",
    "        # No noise - clean images only\n",
    "        encoded_batch = torch.stack([encode_mnist_hd(img) for img in data])\n",
    "        one_hot = torch.zeros(targets.size(0), 10, device=device)\n",
    "        one_hot.scatter_(1, targets.unsqueeze(1), 1)\n",
    "\n",
    "        sdm.write(encoded_batch, one_hot)\n",
    "\n",
    "        if batch_idx % 50 == 0:\n",
    "            print(f\"Batch {batch_idx}/{num_batches}\")\n",
    "\n",
    "    print(f\"Training samples: {num_batches*64} (clean images only)\")\n",
    "\n",
    "    # Save trained model\n",
    "    print(\"Saving Standard SDM model...\")\n",
    "    with open('../pkl/sdm_model.pkl', 'wb') as f:\n",
    "        pickle.dump(sdm, f)\n",
    "else:\n",
    "    print(\"Using pre-trained Standard SDM model\")"
   ]
  },
  {
   "cell_type": "markdown",
   "metadata": {},
   "source": [
    "## 4. Evaluate on test set"
   ]
  },
  {
   "cell_type": "code",
   "execution_count": 5,
   "metadata": {},
   "outputs": [
    {
     "name": "stdout",
     "output_type": "stream",
     "text": [
      "Accuracy: 70.9% (2268/3200)\n"
     ]
    }
   ],
   "source": [
    "correct = 0\n",
    "total = 0\n",
    "\n",
    "for batch_idx, (data, targets) in enumerate(test_loader):\n",
    "    if batch_idx >= 50:\n",
    "        break\n",
    "\n",
    "    data = data.to(device)\n",
    "    targets = targets.to(device)\n",
    "\n",
    "    encoded_batch = torch.stack([encode_mnist_hd(img) for img in data])\n",
    "    outputs = sdm.read(encoded_batch)\n",
    "    predictions = torch.argmax(outputs, dim=1)\n",
    "\n",
    "    correct += (predictions == targets).sum().item()\n",
    "    total += targets.size(0)\n",
    "\n",
    "accuracy = 100 * correct / total\n",
    "print(f\"Accuracy: {accuracy:.1f}% ({correct}/{total})\")"
   ]
  },
  {
   "cell_type": "markdown",
   "metadata": {},
   "source": [
    "## 5. Train Robust SDM Model"
   ]
  },
  {
   "cell_type": "code",
   "execution_count": 6,
   "metadata": {},
   "outputs": [
    {
     "name": "stdout",
     "output_type": "stream",
     "text": [
      "Loading existing robust SDM model...\n",
      "Robust SDM model ready!\n"
     ]
    }
   ],
   "source": [
    "# Skip training if robust model already exists\n",
    "if os.path.exists('../pkl/sdm_robust_model.pkl'):\n",
    "    print(\"Loading existing robust SDM model...\")\n",
    "    with open('../pkl/sdm_robust_model.pkl', 'rb') as f:\n",
    "        robust_sdm = pickle.load(f)\n",
    "else:\n",
    "    print(\"Training Robust SDM model (with noise augmentation)...\")\n",
    "    robust_sdm = SparseDistributed(memory_size, hd_dim, 10, p=p, device=device)\n",
    "\n",
    "    # Noise levels for training\n",
    "    noise_levels = [0.0, 0.1, 0.25, 0.4]\n",
    "\n",
    "    for batch_idx, (data, targets) in enumerate(train_loader):\n",
    "        if batch_idx >= num_batches:\n",
    "            break\n",
    "\n",
    "        data = data.to(device)\n",
    "        targets = targets.to(device)\n",
    "\n",
    "        # Apply random noise to each sample (no color inversion)\n",
    "        noisy_data = data.clone()\n",
    "        for i in range(data.size(0)):\n",
    "            noise_level = np.random.choice(noise_levels)\n",
    "            if noise_level > 0:\n",
    "                flip_mask = torch.rand_like(data[i]) < noise_level\n",
    "                noisy_data[i][flip_mask] = 1 - noisy_data[i][flip_mask]\n",
    "\n",
    "        encoded_batch = torch.stack([encode_mnist_hd(img) for img in noisy_data])\n",
    "        one_hot = torch.zeros(targets.size(0), 10, device=device)\n",
    "        one_hot.scatter_(1, targets.unsqueeze(1), 1)\n",
    "\n",
    "        robust_sdm.write(encoded_batch, one_hot)\n",
    "\n",
    "        if batch_idx % 50 == 0:\n",
    "            print(f\"Batch {batch_idx}/{num_batches}\")\n",
    "\n",
    "    print(f\"Training samples: {num_batches*64} (with noise augmentation: {noise_levels})\")\n",
    "\n",
    "    # Save trained robust model\n",
    "    print(\"Saving Robust SDM model...\")\n",
    "    with open('../pkl/sdm_robust_model.pkl', 'wb') as f:\n",
    "        pickle.dump(robust_sdm, f)\n",
    "\n",
    "print(\"Robust SDM model ready!\")"
   ]
  },
  {
   "cell_type": "markdown",
   "metadata": {},
   "source": [
    "## 6. Noise Robustness Analysis"
   ]
  },
  {
   "cell_type": "markdown",
   "metadata": {},
   "source": [
    "### 1. Digit 4 with Increasing Noise"
   ]
  },
  {
   "cell_type": "code",
   "execution_count": 7,
   "metadata": {},
   "outputs": [
    {
     "data": {
      "image/png": "[encoded data removed]",
      "text/plain": [
       "<Figure size 1500x600 with 12 Axes>"
      ]
     },
     "metadata": {},
     "output_type": "display_data"
    }
   ],
   "source": [
    "digit_4 = None\n",
    "for img, label in train_dataset:\n",
    "    if label == 4:\n",
    "        digit_4 = img.squeeze()\n",
    "        break\n",
    "\n",
    "noise_levels = [0.0, 0.1, 0.3, 0.5, 0.7, 0.9]\n",
    "fig, axes = plt.subplots(2, len(noise_levels), figsize=(15, 6))\n",
    "\n",
    "for i, noise in enumerate(noise_levels):\n",
    "    noisy_digit = digit_4.clone()\n",
    "    if noise > 0:\n",
    "        flip_mask = torch.rand_like(noisy_digit) < noise\n",
    "        noisy_digit[flip_mask] = 1 - noisy_digit[flip_mask]\n",
    "\n",
    "    encoded_noisy = encode_mnist_hd(noisy_digit).unsqueeze(0)\n",
    "    output = sdm.read(encoded_noisy)\n",
    "    predicted = torch.argmax(output, dim=1).item()\n",
    "    confidence = torch.max(torch.softmax(output, dim=1)).item()\n",
    "\n",
    "    axes[0, i].imshow(noisy_digit.cpu(), cmap=\"gray\", vmin=0, vmax=1)\n",
    "    axes[0, i].set_title(f\"{int(noise*100)}%\")\n",
    "    axes[0, i].axis(\"off\")\n",
    "\n",
    "    color = \"green\" if predicted == 4 else \"red\"\n",
    "    axes[1, i].text(\n",
    "        0.5,\n",
    "        0.5,\n",
    "        f\"{predicted}\",\n",
    "        fontsize=36,\n",
    "        ha=\"center\",\n",
    "        va=\"center\",\n",
    "        color=color,\n",
    "        weight=\"bold\",\n",
    "        transform=axes[1, i].transAxes,\n",
    "    )\n",
    "    axes[1, i].set_title(f\"{confidence:.2f}\", color=color)\n",
    "    axes[1, i].axis(\"off\")\n",
    "\n",
    "plt.tight_layout()\n",
    "plt.show()"
   ]
  },
  {
   "cell_type": "markdown",
   "metadata": {},
   "source": [
    "### 2. Recall Accuracy vs. Noise Level"
   ]
  },
  {
   "cell_type": "code",
   "execution_count": 8,
   "metadata": {},
   "outputs": [
    {
     "name": "stdout",
     "output_type": "stream",
     "text": [
      "Loading existing recall accuracy data...\n"
     ]
    },
    {
     "data": {
      "image/png": "[encoded data removed]",
      "text/plain": [
       "<Figure size 1000x600 with 1 Axes>"
      ]
     },
     "metadata": {},
     "output_type": "display_data"
    }
   ],
   "source": [
    "# Try to load existing recall accuracy data\n",
    "if os.path.exists(\"../pkl/recall_accuracy_data.pkl\"):\n",
    "    print(\"Loading existing recall accuracy data...\")\n",
    "    with open(\"../pkl/recall_accuracy_data.pkl\", \"rb\") as f:\n",
    "        data = pickle.load(f)\n",
    "        # Handle both tuple and dict formats\n",
    "        if isinstance(data, dict):\n",
    "            noise_levels = data[\"noise_levels\"]\n",
    "            accuracies = data[\"accuracies\"]\n",
    "        else:\n",
    "            # Assume it's a tuple (noise_levels, accuracies)\n",
    "            noise_levels, accuracies = data\n",
    "else:\n",
    "    print(\"Computing recall accuracy vs noise...\")\n",
    "    noise_levels = [0.0, 0.1, 0.2, 0.3, 0.4, 0.5, 0.6, 0.7, 0.8, 0.9, 1.0]\n",
    "    accuracies = []\n",
    "\n",
    "    for noise in noise_levels:\n",
    "        correct = 0\n",
    "        total = 0\n",
    "\n",
    "        for batch_idx, (data, targets) in enumerate(test_loader):\n",
    "            if batch_idx >= 20:\n",
    "                break\n",
    "\n",
    "            data = data.to(device)\n",
    "            targets = targets.to(device)\n",
    "\n",
    "            noisy_data = data.clone()\n",
    "            if noise > 0:\n",
    "                flip_mask = torch.rand_like(noisy_data) < noise\n",
    "                noisy_data[flip_mask] = 1 - noisy_data[flip_mask]\n",
    "\n",
    "            encoded_batch = torch.stack([encode_mnist_hd(img) for img in noisy_data])\n",
    "            outputs = sdm.read(encoded_batch)\n",
    "            predictions = torch.argmax(outputs, dim=1)\n",
    "\n",
    "            correct += (predictions == targets).sum().item()\n",
    "            total += targets.size(0)\n",
    "\n",
    "        accuracy = correct / total\n",
    "        accuracies.append(accuracy)\n",
    "\n",
    "    # Save recall accuracy data\n",
    "    print(\"Saving recall accuracy data...\")\n",
    "    with open(\"../pkl/recall_accuracy_data.pkl\", \"wb\") as f:\n",
    "        pickle.dump({\"noise_levels\": noise_levels, \"accuracies\": accuracies}, f)\n",
    "\n",
    "plt.figure(figsize=(10, 6))\n",
    "plt.plot(noise_levels, accuracies, \"b-o\", linewidth=2, markersize=8)\n",
    "plt.xlabel(\"Noise Level\")\n",
    "plt.ylabel(\"Accuracy\")\n",
    "plt.title(\"Recall Accuracy vs. Noise Level\")\n",
    "plt.ylim(0.0, 1.0)\n",
    "plt.xlim(-0.05, 1.05)  # Add padding to show edge points\n",
    "plt.grid(True, alpha=0.3)\n",
    "plt.show()"
   ]
  },
  {
   "cell_type": "markdown",
   "metadata": {},
   "source": [
    "### 3. Hamming Distance vs. Noise Level"
   ]
  },
  {
   "cell_type": "code",
   "execution_count": 9,
   "metadata": {},
   "outputs": [
    {
     "name": "stdout",
     "output_type": "stream",
     "text": [
      "Loading existing Hamming distance data...\n"
     ]
    },
    {
     "data": {
      "image/png": "[encoded data removed]",
      "text/plain": [
       "<Figure size 1000x600 with 1 Axes>"
      ]
     },
     "metadata": {},
     "output_type": "display_data"
    }
   ],
   "source": [
    "# Try to load existing Hamming distance data\n",
    "if os.path.exists(\"../pkl/hamming_distance_data.pkl\"):\n",
    "    print(\"Loading existing Hamming distance data...\")\n",
    "    with open(\"../pkl/hamming_distance_data.pkl\", \"rb\") as f:\n",
    "        data = pickle.load(f)\n",
    "        # Handle both tuple and dict formats\n",
    "        if isinstance(data, dict):\n",
    "            noise_levels = data[\"noise_levels\"]\n",
    "            hamming_distances = data[\"hamming_distances\"]\n",
    "        else:\n",
    "            # Assume it's a tuple (noise_levels, hamming_distances)\n",
    "            noise_levels, hamming_distances = data\n",
    "else:\n",
    "    print(\"Computing Hamming distance vs noise...\")\n",
    "    noise_levels = [0.0, 0.1, 0.2, 0.3, 0.4, 0.5, 0.6, 0.7, 0.8, 0.9, 1.0]\n",
    "    hamming_distances = []\n",
    "\n",
    "    for noise in noise_levels:\n",
    "        distances = []\n",
    "\n",
    "        for batch_idx, (data, targets) in enumerate(test_loader):\n",
    "            if batch_idx >= 20:\n",
    "                break\n",
    "\n",
    "            data = data.to(device)\n",
    "\n",
    "            noisy_data = data.clone()\n",
    "            if noise > 0:\n",
    "                flip_mask = torch.rand_like(noisy_data) < noise\n",
    "                noisy_data[flip_mask] = 1 - noisy_data[flip_mask]\n",
    "\n",
    "            original_encoded = torch.stack([encode_mnist_hd(img) for img in data])\n",
    "            noisy_encoded = torch.stack([encode_mnist_hd(img) for img in noisy_data])\n",
    "\n",
    "            hamming_dist = (original_encoded != noisy_encoded).float().mean(dim=1)\n",
    "            distances.extend(hamming_dist.cpu().numpy())\n",
    "\n",
    "        avg_distance = np.mean(distances)\n",
    "        hamming_distances.append(avg_distance)\n",
    "\n",
    "    # Save Hamming distance data\n",
    "    print(\"Saving Hamming distance data...\")\n",
    "    with open(\"../pkl/hamming_distance_data.pkl\", \"wb\") as f:\n",
    "        pickle.dump({\"noise_levels\": noise_levels, \"hamming_distances\": hamming_distances}, f)\n",
    "\n",
    "plt.figure(figsize=(10, 6))\n",
    "plt.plot(noise_levels, hamming_distances, \"r-o\", linewidth=2, markersize=8)\n",
    "plt.xlabel(\"Noise Level\")\n",
    "plt.ylabel(\"Hamming Distance\")\n",
    "plt.title(\"Hamming Distance vs. Noise Level\")\n",
    "plt.ylim(-0.05, 1.0)\n",
    "plt.xlim(-0.05, 1.05)  # Add padding to show edge points\n",
    "plt.grid(True, alpha=0.3)\n",
    "plt.show()"
   ]
  },
  {
   "cell_type": "markdown",
   "metadata": {},
   "source": [
    "### 4. Capacity Analysis"
   ]
  },
  {
   "cell_type": "code",
   "execution_count": 10,
   "metadata": {},
   "outputs": [
    {
     "name": "stdout",
     "output_type": "stream",
     "text": [
      "Loading existing capacity analysis data...\n"
     ]
    },
    {
     "data": {
      "image/png": "[encoded data removed]",
      "text/plain": [
       "<Figure size 1000x600 with 1 Axes>"
      ]
     },
     "metadata": {},
     "output_type": "display_data"
    }
   ],
   "source": [
    "# Try to load existing capacity analysis data\n",
    "if os.path.exists(\"../pkl/capacity_analysis_data.pkl\"):\n",
    "    print(\"Loading existing capacity analysis data...\")\n",
    "    with open(\"../pkl/capacity_analysis_data.pkl\", \"rb\") as f:\n",
    "        data = pickle.load(f)\n",
    "        # Handle both tuple and dict formats\n",
    "        if isinstance(data, dict):\n",
    "            pattern_counts = data[\"pattern_counts\"]\n",
    "            recall_accuracies = data[\"recall_accuracies\"]\n",
    "        else:\n",
    "            # Assume it's a tuple (pattern_counts, recall_accuracies)\n",
    "            pattern_counts, recall_accuracies = data\n",
    "else:\n",
    "    print(\"Computing capacity analysis...\")\n",
    "    pattern_counts = [500, 1000, 2000, 4000, 8000, 12800, 25600]\n",
    "    recall_accuracies = []\n",
    "\n",
    "    for num_patterns in pattern_counts:\n",
    "        # Create fresh SDM\n",
    "        test_sdm = SparseDistributed(memory_size, hd_dim, 10, p=p, device=device)\n",
    "\n",
    "        # Train with limited patterns\n",
    "        patterns_stored = 0\n",
    "        for batch_idx, (data, targets) in enumerate(train_loader):\n",
    "            if patterns_stored >= num_patterns:\n",
    "                break\n",
    "\n",
    "            data = data.to(device)\n",
    "            targets = targets.to(device)\n",
    "\n",
    "            # Only take needed samples from batch\n",
    "            batch_size = min(64, num_patterns - patterns_stored)\n",
    "            data = data[:batch_size]\n",
    "            targets = targets[:batch_size]\n",
    "\n",
    "            encoded_batch = torch.stack([encode_mnist_hd(img) for img in data])\n",
    "            one_hot = torch.zeros(targets.size(0), 10, device=device)\n",
    "            one_hot.scatter_(1, targets.unsqueeze(1), 1)\n",
    "\n",
    "            test_sdm.write(encoded_batch, one_hot)\n",
    "            patterns_stored += batch_size\n",
    "\n",
    "        # Test recall on subset\n",
    "        correct = 0\n",
    "        total = 0\n",
    "        for batch_idx, (data, targets) in enumerate(test_loader):\n",
    "            if batch_idx >= 20:\n",
    "                break\n",
    "\n",
    "            data = data.to(device)\n",
    "            targets = targets.to(device)\n",
    "\n",
    "            encoded_batch = torch.stack([encode_mnist_hd(img) for img in data])\n",
    "            outputs = test_sdm.read(encoded_batch)\n",
    "            predictions = torch.argmax(outputs, dim=1)\n",
    "\n",
    "            correct += (predictions == targets).sum().item()\n",
    "            total += targets.size(0)\n",
    "\n",
    "        accuracy = correct / total\n",
    "        recall_accuracies.append(accuracy)\n",
    "        print(f\"Patterns: {num_patterns}, Accuracy: {accuracy:.3f}\")\n",
    "\n",
    "    # Save capacity analysis data\n",
    "    print(\"Saving capacity analysis data...\")\n",
    "    with open(\"../pkl/capacity_analysis_data.pkl\", \"wb\") as f:\n",
    "        pickle.dump({\"pattern_counts\": pattern_counts, \"recall_accuracies\": recall_accuracies}, f)\n",
    "\n",
    "plt.figure(figsize=(10, 6))\n",
    "plt.plot(pattern_counts, recall_accuracies, \"g-o\", linewidth=2, markersize=8)\n",
    "plt.xlabel(\"Number of Stored Patterns\")\n",
    "plt.ylabel(\"Recall Accuracy\")\n",
    "plt.title(\"SDM Capacity Analysis\")\n",
    "plt.ylim(0.0, 1.0)\n",
    "plt.grid(True, alpha=0.3)\n",
    "plt.show()"
   ]
  },
  {
   "cell_type": "code",
   "execution_count": null,
   "metadata": {},
   "outputs": [
    {
     "name": "stderr",
     "output_type": "stream",
     "text": [
      "OMP: Info #276: omp_set_nested routine deprecated, please use omp_set_max_active_levels instead.\n"
     ]
    }
   ],
   "source": [
    "  import umap\n",
    "  import numpy as np\n",
    "  test_data = np.random.rand(20, 10)  # Tiny test\n",
    "  reducer = umap.UMAP(n_neighbors=3)\n",
    "  embedding = reducer.fit_transform(test_data)"
   ]
  },
  {
   "cell_type": "markdown",
   "metadata": {},
   "source": [
    "### 5. Vector Analysis & Clustering"
   ]
  },
  {
   "cell_type": "code",
   "execution_count": null,
   "metadata": {},
   "outputs": [],
   "source": [
    "# Try t-SNE instead of UMAP - often faster and more reliable\n",
    "from sklearn.manifold import TSNE\n",
    "from sklearn.decomposition import PCA\n",
    "\n",
    "print(\"Creating HD vector visualization with t-SNE...\")\n",
    "\n",
    "# Collect 20 examples per digit (200 total)\n",
    "vectors = []\n",
    "labels = []\n",
    "images = []\n",
    "\n",
    "for digit in range(10):\n",
    "    count = 0\n",
    "    for img, label in test_dataset:\n",
    "        if label == digit and count < 20:\n",
    "            hd_vector = encode_mnist_hd(img)\n",
    "            vectors.append(hd_vector.cpu().numpy())\n",
    "            labels.append(label)\n",
    "            images.append(img.numpy())\n",
    "            count += 1\n",
    "        if count >= 20:\n",
    "            break\n",
    "\n",
    "print(f\"Using {len(vectors)} HD vectors\")\n",
    "\n",
    "# PCA first (essential for t-SNE with high-dim data)\n",
    "print(\"Applying PCA preprocessing...\")\n",
    "hd_vectors = np.array(vectors)\n",
    "pca = PCA(n_components=50)\n",
    "vectors_reduced = pca.fit_transform(hd_vectors)\n",
    "\n",
    "# t-SNE (usually faster than UMAP)\n",
    "print(\"Computing t-SNE embedding...\")\n",
    "tsne = TSNE(n_components=2, perplexity=30, random_state=42, n_iter=300)\n",
    "embedding = tsne.fit_transform(vectors_reduced)\n",
    "\n",
    "# Visualization\n",
    "plt.figure(figsize=(10, 8))\n",
    "scatter = plt.scatter(embedding[:, 0], embedding[:, 1], \n",
    "                     c=labels, cmap='tab10', s=50, alpha=0.8)\n",
    "plt.colorbar(scatter, ticks=range(10), label=\"Digit\")\n",
    "plt.title(\"MNIST Digits in HD Space (t-SNE)\")\n",
    "plt.xlabel(\"t-SNE 1\")\n",
    "plt.ylabel(\"t-SNE 2\")\n",
    "plt.grid(True, alpha=0.3)\n",
    "plt.show()\n",
    "\n",
    "# Show some examples\n",
    "fig, axes = plt.subplots(1, 5, figsize=(15, 3))\n",
    "for i in range(5):\n",
    "    axes[i].imshow(images[i].squeeze(), cmap='gray')\n",
    "    axes[i].set_title(f\"Digit {labels[i]}\")\n",
    "    axes[i].axis('off')\n",
    "\n",
    "plt.show()\n",
    "print(\"t-SNE visualization complete!\")"
   ]
  },
  {
   "cell_type": "markdown",
   "metadata": {},
   "source": [
    "### 6. Digit-Specific Noise Testing"
   ]
  },
  {
   "cell_type": "code",
   "execution_count": null,
   "metadata": {},
   "outputs": [],
   "source": [
    "# Find digit 4 for detailed noise testing\n",
    "digit_4 = None\n",
    "for img, label in train_dataset:\n",
    "    if label == 4:\n",
    "        digit_4 = img.squeeze()\n",
    "        break\n",
    "\n",
    "noise_levels = [0.0, 0.1, 0.3, 0.5, 0.7, 0.9]\n",
    "fig, axes = plt.subplots(3, len(noise_levels), figsize=(15, 9))\n",
    "\n",
    "for i, noise in enumerate(noise_levels):\n",
    "    # Create noisy version\n",
    "    noisy_digit = digit_4.clone()\n",
    "    if noise > 0:\n",
    "        flip_mask = torch.rand_like(noisy_digit) < noise\n",
    "        noisy_digit[flip_mask] = 1 - noisy_digit[flip_mask]\n",
    "\n",
    "    # Test both models\n",
    "    with torch.no_grad():\n",
    "        encoded_noisy = encode_mnist_hd(noisy_digit).unsqueeze(0)\n",
    "\n",
    "        # Original model\n",
    "        output_orig = sdm.read(encoded_noisy)\n",
    "        pred_orig = torch.argmax(output_orig, dim=1).item()\n",
    "        conf_orig = torch.max(torch.softmax(output_orig, dim=1)).item()\n",
    "\n",
    "        # Robust model\n",
    "        output_robust = robust_sdm.read(encoded_noisy)\n",
    "        pred_robust = torch.argmax(output_robust, dim=1).item()\n",
    "        conf_robust = torch.max(torch.softmax(output_robust, dim=1)).item()\n",
    "\n",
    "    # Display image\n",
    "    axes[0, i].imshow(noisy_digit.cpu(), cmap=\"gray\", vmin=0, vmax=1)\n",
    "    axes[0, i].set_title(f\"{int(noise*100)}% Noise\")\n",
    "    axes[0, i].axis(\"off\")\n",
    "\n",
    "    # Original model prediction\n",
    "    color_orig = \"green\" if pred_orig == 4 else \"red\"\n",
    "    axes[1, i].text(\n",
    "        0.5,\n",
    "        0.5,\n",
    "        f\"{pred_orig}\",\n",
    "        fontsize=36,\n",
    "        ha=\"center\",\n",
    "        va=\"center\",\n",
    "        color=color_orig,\n",
    "        weight=\"bold\",\n",
    "        transform=axes[1, i].transAxes,\n",
    "    )\n",
    "    axes[1, i].set_title(f\"Original: {conf_orig:.2f}\", color=color_orig)\n",
    "    axes[1, i].axis(\"off\")\n",
    "\n",
    "    # Robust model prediction\n",
    "    color_robust = \"green\" if pred_robust == 4 else \"red\"\n",
    "    axes[2, i].text(\n",
    "        0.5,\n",
    "        0.5,\n",
    "        f\"{pred_robust}\",\n",
    "        fontsize=36,\n",
    "        ha=\"center\",\n",
    "        va=\"center\",\n",
    "        color=color_robust,\n",
    "        weight=\"bold\",\n",
    "        transform=axes[2, i].transAxes,\n",
    "    )\n",
    "    axes[2, i].set_title(f\"Robust: {conf_robust:.2f}\", color=color_robust)\n",
    "    axes[2, i].axis(\"off\")\n",
    "\n",
    "plt.suptitle(\"Digit 4 Noise Robustness: Original vs Robust Model\", fontsize=14)\n",
    "plt.tight_layout()\n",
    "plt.show()"
   ]
  }
 ],
 "metadata": {
  "kernelspec": {
   "display_name": "sscp",
   "language": "python",
   "name": "python3"
  },
  "language_info": {
   "codemirror_mode": {
    "name": "ipython",
    "version": 3
   },
   "file_extension": ".py",
   "mimetype": "text/x-python",
   "name": "python",
   "nbconvert_exporter": "python",
   "pygments_lexer": "ipython3",
   "version": "3.12.0"
  }
 },
 "nbformat": 4,
 "nbformat_minor": 2
}
